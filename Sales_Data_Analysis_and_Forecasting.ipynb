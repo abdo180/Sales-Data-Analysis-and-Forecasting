{
  "nbformat": 4,
  "nbformat_minor": 0,
  "metadata": {
    "colab": {
      "private_outputs": true,
      "provenance": [],
      "gpuType": "V28",
      "authorship_tag": "ABX9TyMNofvsU0Pvi4BD0Qf9lLPQ",
      "include_colab_link": true
    },
    "kernelspec": {
      "name": "python3",
      "display_name": "Python 3"
    },
    "language_info": {
      "name": "python"
    },
    "accelerator": "TPU"
  },
  "cells": [
    {
      "cell_type": "markdown",
      "metadata": {
        "id": "view-in-github",
        "colab_type": "text"
      },
      "source": [
        "<a href=\"https://colab.research.google.com/github/abdo180/Sales-Data-Analysis-and-Forecasting/blob/main/Sales_Data_Analysis_and_Forecasting.ipynb\" target=\"_parent\"><img src=\"https://colab.research.google.com/assets/colab-badge.svg\" alt=\"Open In Colab\"/></a>"
      ]
    },
    {
      "cell_type": "code",
      "execution_count": null,
      "metadata": {
        "id": "izTptw7L47F4"
      },
      "outputs": [],
      "source": [
        "# Install necessary libraries (you may already have some of these)\n",
        "!pip install pandas numpy matplotlib seaborn mlxtend statsmodels pmdarima\n",
        "\n",
        "# Import the libraries\n",
        "import pandas as pd\n",
        "import numpy as np\n",
        "import matplotlib.pyplot as plt\n",
        "import seaborn as sns\n",
        "from mlxtend.frequent_patterns import apriori, association_rules\n",
        "from statsmodels.tsa.seasonal import seasonal_decompose\n",
        "from pmdarima import auto_arima\n",
        "from sklearn.metrics import mean_absolute_error, mean_squared_error\n"
      ]
    },
    {
      "cell_type": "code",
      "source": [
        "# Load the dataset\n",
        "df = pd.read_csv('/content/data.csv', encoding='ISO-8859-1')  # Adjust path if needed\n",
        "\n",
        "# Display the first few rows\n",
        "df.head()\n"
      ],
      "metadata": {
        "id": "9inMUvgf5eUk"
      },
      "execution_count": null,
      "outputs": []
    },
    {
      "cell_type": "code",
      "source": [
        "# Check for missing values\n",
        "df.isnull().sum()\n",
        "\n",
        "# Drop rows with missing CustomerID (if CustomerID is important for analysis)\n",
        "df = df.dropna(subset=['CustomerID'])\n",
        "\n",
        "# Convert InvoiceDate to datetime\n",
        "df['InvoiceDate'] = pd.to_datetime(df['InvoiceDate'])\n",
        "\n",
        "# Remove negative quantities (returns)\n",
        "df = df[df['Quantity'] > 0]\n",
        "\n",
        "# Remove duplicates\n",
        "df = df.drop_duplicates()\n"
      ],
      "metadata": {
        "id": "ehKatna55jy8"
      },
      "execution_count": null,
      "outputs": []
    },
    {
      "cell_type": "code",
      "source": [
        "# Create a column for Total Sales\n",
        "df['TotalSales'] = df['Quantity'] * df['UnitPrice']\n",
        "\n",
        "# Group by month for sales analysis\n",
        "df['YearMonth'] = df['InvoiceDate'].dt.to_period('M')\n",
        "monthly_sales = df.groupby('YearMonth')['TotalSales'].sum()\n",
        "\n",
        "# Plot monthly sales\n",
        "plt.figure(figsize=(12, 6))\n",
        "monthly_sales.plot()\n",
        "plt.title('Total Monthly Sales Over Time')\n",
        "plt.xlabel('Year-Month')\n",
        "plt.ylabel('Total Sales')\n",
        "plt.grid(True)\n",
        "plt.show()\n"
      ],
      "metadata": {
        "id": "7iWKqdw66KaS"
      },
      "execution_count": null,
      "outputs": []
    },
    {
      "cell_type": "code",
      "source": [
        "# Group by product and sum quantities sold\n",
        "product_sales = df.groupby('Description')['Quantity'].sum().sort_values(ascending=False)\n",
        "top_products = product_sales.head(10)\n",
        "\n",
        "# Plot the top products\n",
        "plt.figure(figsize=(10, 5))\n",
        "top_products.plot(kind='bar')\n",
        "plt.title('Top 10 Best-Selling Products')\n",
        "plt.xlabel('Product')\n",
        "plt.ylabel('Quantity Sold')\n",
        "plt.xticks(rotation=90)\n",
        "plt.show()\n"
      ],
      "metadata": {
        "id": "CZjLnJ1a6UcC"
      },
      "execution_count": null,
      "outputs": []
    },
    {
      "cell_type": "code",
      "source": [
        "import datetime as dt\n",
        "\n",
        "# Set reference date (the latest date in your dataset + 1 day)\n",
        "reference_date = df['InvoiceDate'].max() + dt.timedelta(days=1)\n",
        "\n",
        "# RFM metrics calculation\n",
        "rfm = df.groupby('CustomerID').agg({\n",
        "    'InvoiceDate': lambda x: (reference_date - x.max()).days,\n",
        "    'InvoiceNo': 'nunique',\n",
        "    'TotalSales': 'sum'\n",
        "})\n",
        "rfm.columns = ['Recency', 'Frequency', 'Monetary']\n",
        "\n",
        "# Create RFM segments\n",
        "rfm['RFM_Segment'] = rfm[['Recency', 'Frequency', 'Monetary']].apply(lambda x: f\"{x['Recency']}-{x['Frequency']}-{x['Monetary']}\", axis=1)\n",
        "rfm.head()\n"
      ],
      "metadata": {
        "id": "1AtEnDG46VpT"
      },
      "execution_count": null,
      "outputs": []
    },
    {
      "cell_type": "code",
      "source": [
        "# Prepare data for market basket analysis\n",
        "basket = df.groupby(['InvoiceNo', 'Description'])['Quantity'].sum().unstack().fillna(0).applymap(lambda x: 1 if x > 0 else 0)\n",
        "\n",
        "# Apply Apriori algorithm\n",
        "frequent_itemsets = apriori(basket, min_support=0.02, use_colnames=True)\n",
        "\n",
        "# Generate association rules\n",
        "rules = association_rules(frequent_itemsets, metric=\"confidence\", min_threshold=0.5)\n",
        "rules[['antecedents', 'consequents', 'support', 'confidence', 'lift']].sort_values(by='lift', ascending=False).head(10)\n"
      ],
      "metadata": {
        "id": "mprGpty96ZDy"
      },
      "execution_count": null,
      "outputs": []
    },
    {
      "cell_type": "code",
      "source": [
        "print(\"Monthly sales data:\")\n",
        "print(monthly_sales.head())\n",
        "print(\"Data shape:\", monthly_sales.shape)\n",
        "print(\"Missing values:\", monthly_sales.isnull().sum())\n",
        "\n"
      ],
      "metadata": {
        "id": "NpmwuC1F8sBj"
      },
      "execution_count": null,
      "outputs": []
    },
    {
      "cell_type": "code",
      "source": [
        "# Drop NaNs, if any, from monthly_sales\n",
        "monthly_sales.dropna(inplace=True)\n"
      ],
      "metadata": {
        "id": "ONQknkBQ89IT"
      },
      "execution_count": null,
      "outputs": []
    },
    {
      "cell_type": "code",
      "source": [
        "from pmdarima import auto_arima\n",
        "\n",
        "# Fit the ARIMA model on the cleaned monthly_sales data\n",
        "# Fit an Auto ARIMA model\n",
        "model = auto_arima(monthly_sales, seasonal=True, season_length=12, stepwise=True, suppress_warnings=True)\n",
        "\n",
        "\n",
        "# Forecast for the next 12 months\n",
        "forecast_period = 12\n",
        "forecast = model.predict(n_periods=forecast_period)\n",
        "\n",
        "# Create a forecast index for the next 12 months\n",
        "forecast_index = pd.date_range(start=monthly_sales.index[-1] + pd.offsets.MonthBegin(), periods=forecast_period, freq='M')\n",
        "forecast_df = pd.DataFrame(forecast, index=forecast_index, columns=['Forecast'])\n",
        "\n",
        "# Plot the historical and forecasted sales\n",
        "plt.figure(figsize=(12, 6))\n",
        "plt.plot(monthly_sales, label='Historical Sales')\n",
        "plt.plot(forecast_df, label='Forecasted Sales', linestyle='--')\n",
        "plt.title('Sales Forecast for the Next 12 Months')\n",
        "plt.xlabel('Date')\n",
        "plt.ylabel('Sales')\n",
        "plt.legend()\n",
        "plt.grid(True)\n",
        "plt.show()\n"
      ],
      "metadata": {
        "id": "oGucSyWK9BHG"
      },
      "execution_count": null,
      "outputs": []
    },
    {
      "cell_type": "code",
      "source": [
        "# In-sample predictions and model evaluation\n",
        "predicted = model.predict_in_sample()\n",
        "mae = mean_absolute_error(monthly_sales, predicted)\n",
        "rmse = np.sqrt(mean_squared_error(monthly_sales, predicted))\n",
        "\n",
        "print(f\"Mean Absolute Error: {mae}\")\n",
        "print(f\"Root Mean Squared Error: {rmse}\")\n"
      ],
      "metadata": {
        "id": "HdqkUMGP9H7U"
      },
      "execution_count": null,
      "outputs": []
    },
    {
      "cell_type": "code",
      "source": [
        "# Export cleaned data to CSV\n",
        "df.to_csv('/content/cleaned_data.csv', index=False)\n",
        "\n",
        "# Export monthly sales data\n",
        "monthly_sales.to_csv('/content/monthly_sales.csv', index=True)\n",
        "\n",
        "# Export RFM segments\n",
        "rfm.to_csv('/content/rfm_segments.csv', index=True)\n",
        "\n",
        "# Export Market Basket rules\n",
        "rules[['antecedents', 'consequents', 'support', 'confidence', 'lift']].to_csv('/content/market_basket_rules.csv', index=False)\n"
      ],
      "metadata": {
        "id": "Tz3qe8CV9Oh0"
      },
      "execution_count": null,
      "outputs": []
    },
    {
      "cell_type": "code",
      "source": [
        "!pip install plotly\n",
        "import plotly.express as px\n",
        "\n",
        "# Example: Plot interactive monthly sales using Plotly\n",
        "fig = px.line(monthly_sales, x=monthly_sales.index, y='TotalSales', title='Interactive Monthly Sales')\n",
        "fig.show()\n"
      ],
      "metadata": {
        "id": "5RIfboRQ9UgM"
      },
      "execution_count": null,
      "outputs": []
    },
    {
      "cell_type": "code",
      "source": [
        "from sklearn.cluster import KMeans\n",
        "\n",
        "# Normalize RFM values\n",
        "from sklearn.preprocessing import StandardScaler\n",
        "scaler = StandardScaler()\n",
        "rfm_normalized = scaler.fit_transform(rfm[['Recency', 'Frequency', 'Monetary']])\n",
        "\n",
        "# Run K-Means clustering\n",
        "kmeans = KMeans(n_clusters=4, random_state=0)\n",
        "rfm['Cluster'] = kmeans.fit_predict(rfm_normalized)\n",
        "\n",
        "# Visualize clusters\n",
        "fig = px.scatter(rfm, x='Recency', y='Monetary', color='Cluster', title='Customer Segmentation Clusters')\n",
        "fig.show()\n"
      ],
      "metadata": {
        "id": "mmdbhM579fkp"
      },
      "execution_count": null,
      "outputs": []
    },
    {
      "cell_type": "code",
      "source": [
        "!pip install prophet\n",
        "from prophet import Prophet\n",
        "\n",
        "# Prepare data for Prophet\n",
        "prophet_df = monthly_sales.reset_index()\n",
        "prophet_df.columns = ['ds', 'y']\n",
        "\n",
        "# Initialize and fit the model\n",
        "prophet_model = Prophet(yearly_seasonality=True, weekly_seasonality=False)\n",
        "prophet_model.fit(prophet_df)\n",
        "\n",
        "# Make future predictions\n",
        "future = prophet_model.make_future_dataframe(periods=12, freq='M')\n",
        "forecast = prophet_model.predict(future)\n",
        "\n",
        "# Plot forecast\n",
        "prophet_model.plot(forecast)\n"
      ],
      "metadata": {
        "id": "t6qdfH359h2q"
      },
      "execution_count": null,
      "outputs": []
    },
    {
      "cell_type": "code",
      "source": [
        "# Forecast for the next 12 months\n",
        "forecast_period = 12\n",
        "forecast = model.predict(n_periods=forecast_period)\n",
        "\n",
        "# Create a forecast index for the next 12 months\n",
        "forecast_index = pd.date_range(start=monthly_sales.index[-1] + pd.offsets.MonthBegin(), periods=forecast_period, freq='M')\n",
        "forecast_df = pd.DataFrame(forecast, index=forecast_index, columns=['Forecast'])\n",
        "\n",
        "# Display forecasted values\n",
        "print(forecast_df)\n"
      ],
      "metadata": {
        "id": "jfTAuwf5-Ax4"
      },
      "execution_count": null,
      "outputs": []
    },
    {
      "cell_type": "code",
      "source": [
        "import matplotlib.pyplot as plt\n",
        "\n",
        "# Plot the historical and forecasted sales\n",
        "plt.figure(figsize=(12, 6))\n",
        "plt.plot(monthly_sales, label='Historical Sales')\n",
        "plt.plot(forecast_df, label='Forecasted Sales', linestyle='--')\n",
        "plt.title('Sales Forecast for the Next 12 Months')\n",
        "plt.xlabel('Date')\n",
        "plt.ylabel('Sales')\n",
        "plt.legend()\n",
        "plt.grid(True)\n",
        "plt.show()\n"
      ],
      "metadata": {
        "id": "An9W64da-CeB"
      },
      "execution_count": null,
      "outputs": []
    },
    {
      "cell_type": "code",
      "source": [
        "from sklearn.metrics import mean_absolute_error, mean_squared_error\n",
        "import numpy as np\n",
        "\n",
        "# Make predictions on the historical period (in-sample predictions)\n",
        "predicted = model.predict_in_sample()\n",
        "\n",
        "# Calculate MAE and RMSE for model evaluation\n",
        "mae = mean_absolute_error(monthly_sales, predicted)\n",
        "rmse = np.sqrt(mean_squared_error(monthly_sales, predicted))\n",
        "\n",
        "print(f\"Mean Absolute Error (MAE): {mae}\")\n",
        "print(f\"Root Mean Squared Error (RMSE): {rmse}\")\n"
      ],
      "metadata": {
        "id": "_4qOqTGF-KWR"
      },
      "execution_count": null,
      "outputs": []
    },
    {
      "cell_type": "code",
      "source": [
        "\n",
        "from google.colab import files\n",
        "files.download('Untitled29.ipynb.ipynb')\n"
      ],
      "metadata": {
        "id": "98Ovi0B7D5Hf"
      },
      "execution_count": null,
      "outputs": []
    }
  ]
}